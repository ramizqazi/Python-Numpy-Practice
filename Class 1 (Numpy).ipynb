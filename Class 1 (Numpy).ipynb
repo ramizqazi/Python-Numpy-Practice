{
 "cells": [
  {
   "cell_type": "markdown",
   "id": "cc631629",
   "metadata": {},
   "source": [
    "# Numpy (Sir Nasir)\n",
    "    "
   ]
  },
  {
   "cell_type": "markdown",
   "id": "902591d7",
   "metadata": {},
   "source": [
    "    * Numpy means Numerical Python.\n",
    "    * Its Fastest.\n",
    "    * Its backend is written in c Language.\n",
    "    * It performs Vectorised Operations. the\n",
    "    * It uses Contigous Memory"
   ]
  },
  {
   "cell_type": "code",
   "execution_count": 2,
   "id": "eddee15a",
   "metadata": {},
   "outputs": [],
   "source": [
    "import numpy as np"
   ]
  },
  {
   "cell_type": "code",
   "execution_count": 5,
   "id": "bd268ad7",
   "metadata": {},
   "outputs": [],
   "source": [
    "# Creating an array (list) using numpy\n",
    "arr1 = np.array([0,1,2,3])"
   ]
  },
  {
   "cell_type": "code",
   "execution_count": 6,
   "id": "2c915355",
   "metadata": {},
   "outputs": [
    {
     "data": {
      "text/plain": [
       "4"
      ]
     },
     "execution_count": 6,
     "metadata": {},
     "output_type": "execute_result"
    }
   ],
   "source": [
    "arr1.size"
   ]
  },
  {
   "cell_type": "code",
   "execution_count": 8,
   "id": "a9af3702",
   "metadata": {},
   "outputs": [
    {
     "data": {
      "text/plain": [
       "(4,)"
      ]
     },
     "execution_count": 8,
     "metadata": {},
     "output_type": "execute_result"
    }
   ],
   "source": [
    "arr1.shape"
   ]
  },
  {
   "cell_type": "markdown",
   "id": "38faabdd",
   "metadata": {},
   "source": [
    "# Dimenstions"
   ]
  },
  {
   "cell_type": "markdown",
   "id": "c24ee05e",
   "metadata": {},
   "source": [
    "    - One Dimention = Vector\n",
    "    - Two Dimention = Matrix\n",
    "    - Three Dimention = Cube\n",
    "    - n Dimention = ..."
   ]
  },
  {
   "cell_type": "code",
   "execution_count": 12,
   "id": "265cbbf5",
   "metadata": {},
   "outputs": [
    {
     "data": {
      "text/plain": [
       "1"
      ]
     },
     "execution_count": 12,
     "metadata": {},
     "output_type": "execute_result"
    }
   ],
   "source": [
    "arr1.ndim"
   ]
  },
  {
   "cell_type": "code",
   "execution_count": 14,
   "id": "f3c53d76",
   "metadata": {},
   "outputs": [
    {
     "data": {
      "text/plain": [
       "array([0, 1, 2, 3, 4, 5, 6, 7, 8, 9])"
      ]
     },
     "execution_count": 14,
     "metadata": {},
     "output_type": "execute_result"
    }
   ],
   "source": [
    "# numpy range funciton returns array not like\n",
    "# python range function that returns an object which you have to typecast to have list.\n",
    "\n",
    "arr1d = np.arange(10)\n",
    "arr1d"
   ]
  },
  {
   "cell_type": "code",
   "execution_count": 18,
   "id": "996f4754",
   "metadata": {},
   "outputs": [
    {
     "data": {
      "text/plain": [
       "array([[   1,    2,    3],\n",
       "       [  11,   22,   33],\n",
       "       [ 111,  222,  333],\n",
       "       [1111, 2222, 3333]])"
      ]
     },
     "execution_count": 18,
     "metadata": {},
     "output_type": "execute_result"
    }
   ],
   "source": [
    "# Two Dimention Array\n",
    "\n",
    "# two dimentions arrays are the arrays with x and y\n",
    "arr2d = np.array([[1,2,3], [11,22,33], [111,222,333], [1111,2222,3333]])\n",
    "arr2d"
   ]
  },
  {
   "cell_type": "code",
   "execution_count": 19,
   "id": "c66e1094",
   "metadata": {},
   "outputs": [
    {
     "data": {
      "text/plain": [
       "(4, 3)"
      ]
     },
     "execution_count": 19,
     "metadata": {},
     "output_type": "execute_result"
    }
   ],
   "source": [
    "arr2d.shape"
   ]
  },
  {
   "cell_type": "code",
   "execution_count": 54,
   "id": "a0daf2db",
   "metadata": {},
   "outputs": [
    {
     "data": {
      "text/plain": [
       "array([[ 0,  1,  2,  3,  4],\n",
       "       [ 5,  6,  7,  8,  9],\n",
       "       [10, 11, 12, 13, 14],\n",
       "       [15, 16, 17, 18, 19]])"
      ]
     },
     "execution_count": 54,
     "metadata": {},
     "output_type": "execute_result"
    }
   ],
   "source": [
    "# arr2d = np.arange(20).reshape(1,20)\n",
    "# arr2d = np.arange(20).reshape(20,1)\n",
    "arr2d = np.arange(20).reshape(4, 5)\n",
    "# arr2d = np.arange(20).reshape(10,2)\n",
    "# arr2d = np.arange(20).reshape(2,10)\n",
    "\n",
    "arr2d"
   ]
  },
  {
   "cell_type": "code",
   "execution_count": 33,
   "id": "9ea3d8f3",
   "metadata": {},
   "outputs": [
    {
     "data": {
      "text/plain": [
       "array(10)"
      ]
     },
     "execution_count": 33,
     "metadata": {},
     "output_type": "execute_result"
    }
   ],
   "source": [
    "# Scaler\n",
    "arr = np.array(10)\n",
    "arr"
   ]
  },
  {
   "cell_type": "code",
   "execution_count": 34,
   "id": "5d005a83",
   "metadata": {},
   "outputs": [
    {
     "data": {
      "text/plain": [
       "0"
      ]
     },
     "execution_count": 34,
     "metadata": {},
     "output_type": "execute_result"
    }
   ],
   "source": [
    "arr.ndim"
   ]
  },
  {
   "cell_type": "code",
   "execution_count": 35,
   "id": "dc175d47",
   "metadata": {},
   "outputs": [
    {
     "data": {
      "text/plain": [
       "array([10])"
      ]
     },
     "execution_count": 35,
     "metadata": {},
     "output_type": "execute_result"
    }
   ],
   "source": [
    "# Vector \n",
    "arr = np.array([10])\n",
    "arr"
   ]
  },
  {
   "cell_type": "code",
   "execution_count": 36,
   "id": "a064ac35",
   "metadata": {},
   "outputs": [
    {
     "data": {
      "text/plain": [
       "1"
      ]
     },
     "execution_count": 36,
     "metadata": {},
     "output_type": "execute_result"
    }
   ],
   "source": [
    "arr.ndim"
   ]
  },
  {
   "cell_type": "code",
   "execution_count": 50,
   "id": "1678e19c",
   "metadata": {},
   "outputs": [
    {
     "data": {
      "text/plain": [
       "array([[[ 0,  1,  2,  3],\n",
       "        [ 4,  5,  6,  7],\n",
       "        [ 8,  9, 10, 11],\n",
       "        [12, 13, 14, 15]],\n",
       "\n",
       "       [[16, 17, 18, 19],\n",
       "        [20, 21, 22, 23],\n",
       "        [24, 25, 26, 27],\n",
       "        [28, 29, 30, 31]],\n",
       "\n",
       "       [[32, 33, 34, 35],\n",
       "        [36, 37, 38, 39],\n",
       "        [40, 41, 42, 43],\n",
       "        [44, 45, 46, 47]],\n",
       "\n",
       "       [[48, 49, 50, 51],\n",
       "        [52, 53, 54, 55],\n",
       "        [56, 57, 58, 59],\n",
       "        [60, 61, 62, 63]]])"
      ]
     },
     "execution_count": 50,
     "metadata": {},
     "output_type": "execute_result"
    }
   ],
   "source": [
    "# Three Dimentions\n",
    "\n",
    "arr3d = np.arange(64).reshape(4,4,4)# (depth, row, colums) or (matrixnum, row, col)\n",
    "arr3d"
   ]
  },
  {
   "cell_type": "code",
   "execution_count": 55,
   "id": "38f1903d",
   "metadata": {},
   "outputs": [
    {
     "data": {
      "text/plain": [
       "array([[ 0,  1,  2,  3,  4],\n",
       "       [ 5,  6,  7,  8,  9],\n",
       "       [10, 11, 12, 13, 14],\n",
       "       [15, 16, 17, 18, 19]])"
      ]
     },
     "execution_count": 55,
     "metadata": {},
     "output_type": "execute_result"
    }
   ],
   "source": [
    "arr2d"
   ]
  },
  {
   "cell_type": "code",
   "execution_count": 56,
   "id": "0b7b3205",
   "metadata": {},
   "outputs": [
    {
     "data": {
      "text/plain": [
       "17"
      ]
     },
     "execution_count": 56,
     "metadata": {},
     "output_type": "execute_result"
    }
   ],
   "source": [
    "arr2d[3][2]"
   ]
  },
  {
   "cell_type": "code",
   "execution_count": 58,
   "id": "1a0cb3bf",
   "metadata": {},
   "outputs": [
    {
     "data": {
      "text/plain": [
       "array([0, 1, 2, 3])"
      ]
     },
     "execution_count": 58,
     "metadata": {},
     "output_type": "execute_result"
    }
   ],
   "source": [
    "arr1"
   ]
  },
  {
   "cell_type": "code",
   "execution_count": 60,
   "id": "22e3e3b8",
   "metadata": {},
   "outputs": [
    {
     "data": {
      "text/plain": [
       "[0, 2, 4, 6]"
      ]
     },
     "execution_count": 60,
     "metadata": {},
     "output_type": "execute_result"
    }
   ],
   "source": [
    "newArr1 = []\n",
    "for n in arr1:\n",
    "   newArr1.append(n*2)\n",
    "\n",
    "newArr1"
   ]
  },
  {
   "cell_type": "code",
   "execution_count": 61,
   "id": "4fa9abee",
   "metadata": {},
   "outputs": [
    {
     "data": {
      "text/plain": [
       "[0, 1, 4, 9]"
      ]
     },
     "execution_count": 61,
     "metadata": {},
     "output_type": "execute_result"
    }
   ],
   "source": [
    "[n**2 for n in arr1]"
   ]
  },
  {
   "cell_type": "code",
   "execution_count": 62,
   "id": "9273b933",
   "metadata": {},
   "outputs": [
    {
     "data": {
      "text/plain": [
       "array([0, 2, 4, 6])"
      ]
     },
     "execution_count": 62,
     "metadata": {},
     "output_type": "execute_result"
    }
   ],
   "source": [
    "arr1 * 2"
   ]
  },
  {
   "cell_type": "code",
   "execution_count": 63,
   "id": "9c06a643",
   "metadata": {},
   "outputs": [
    {
     "data": {
      "text/plain": [
       "array([0. , 0.5, 1. , 1.5])"
      ]
     },
     "execution_count": 63,
     "metadata": {},
     "output_type": "execute_result"
    }
   ],
   "source": [
    "arr1 / 2"
   ]
  },
  {
   "cell_type": "code",
   "execution_count": 64,
   "id": "9be890c8",
   "metadata": {},
   "outputs": [
    {
     "data": {
      "text/plain": [
       "array([0, 2, 4, 6])"
      ]
     },
     "execution_count": 64,
     "metadata": {},
     "output_type": "execute_result"
    }
   ],
   "source": [
    "arr1 * 2"
   ]
  },
  {
   "cell_type": "code",
   "execution_count": 66,
   "id": "71b629fa",
   "metadata": {},
   "outputs": [
    {
     "data": {
      "text/plain": [
       "array([0, 3, 6, 9])"
      ]
     },
     "execution_count": 66,
     "metadata": {},
     "output_type": "execute_result"
    }
   ],
   "source": [
    "arr1*3"
   ]
  },
  {
   "cell_type": "code",
   "execution_count": 68,
   "id": "ac7efabe",
   "metadata": {},
   "outputs": [
    {
     "data": {
      "text/plain": [
       "array([[[  0,   2,   4,   6],\n",
       "        [  8,  10,  12,  14],\n",
       "        [ 16,  18,  20,  22],\n",
       "        [ 24,  26,  28,  30]],\n",
       "\n",
       "       [[ 32,  34,  36,  38],\n",
       "        [ 40,  42,  44,  46],\n",
       "        [ 48,  50,  52,  54],\n",
       "        [ 56,  58,  60,  62]],\n",
       "\n",
       "       [[ 64,  66,  68,  70],\n",
       "        [ 72,  74,  76,  78],\n",
       "        [ 80,  82,  84,  86],\n",
       "        [ 88,  90,  92,  94]],\n",
       "\n",
       "       [[ 96,  98, 100, 102],\n",
       "        [104, 106, 108, 110],\n",
       "        [112, 114, 116, 118],\n",
       "        [120, 122, 124, 126]]])"
      ]
     },
     "execution_count": 68,
     "metadata": {},
     "output_type": "execute_result"
    }
   ],
   "source": [
    "arr3d * 2"
   ]
  },
  {
   "cell_type": "code",
   "execution_count": 77,
   "id": "659c6a83",
   "metadata": {},
   "outputs": [
    {
     "name": "stdout",
     "output_type": "stream",
     "text": [
      "[[ 0  1  2  3  4]\n",
      " [ 5  6  7  8  9]\n",
      " [10 11 12 13 14]\n",
      " [15 16 17 18 19]\n",
      " [20 21 22 23 24]] [[25 26 27 28 29]\n",
      " [30 31 32 33 34]\n",
      " [35 36 37 38 39]\n",
      " [40 41 42 43 44]\n",
      " [45 46 47 48 49]]\n"
     ]
    }
   ],
   "source": [
    "# mirroring = elementwise operation\n",
    "a = np.arange(25).reshape(5,5)\n",
    "b = np.arange(25, 50).reshape(5,5)\n",
    "\n",
    "print(a, b)"
   ]
  },
  {
   "cell_type": "code",
   "execution_count": 80,
   "id": "4cda1b8e",
   "metadata": {},
   "outputs": [
    {
     "data": {
      "text/plain": [
       "array([[ 400,  410,  420,  430,  440],\n",
       "       [1275, 1310, 1345, 1380, 1415],\n",
       "       [2150, 2210, 2270, 2330, 2390],\n",
       "       [3025, 3110, 3195, 3280, 3365],\n",
       "       [3900, 4010, 4120, 4230, 4340]])"
      ]
     },
     "execution_count": 80,
     "metadata": {},
     "output_type": "execute_result"
    }
   ],
   "source": [
    "# a @ b\n",
    "a.dot(b)"
   ]
  },
  {
   "cell_type": "code",
   "execution_count": 81,
   "id": "21d1247e",
   "metadata": {},
   "outputs": [],
   "source": [
    "c = np.arange(20).reshape(5,4)"
   ]
  },
  {
   "cell_type": "code",
   "execution_count": 82,
   "id": "1e377b77",
   "metadata": {},
   "outputs": [
    {
     "data": {
      "text/plain": [
       "array([[ 0,  1,  2,  3],\n",
       "       [ 4,  5,  6,  7],\n",
       "       [ 8,  9, 10, 11],\n",
       "       [12, 13, 14, 15],\n",
       "       [16, 17, 18, 19]])"
      ]
     },
     "execution_count": 82,
     "metadata": {},
     "output_type": "execute_result"
    }
   ],
   "source": [
    "c"
   ]
  },
  {
   "cell_type": "code",
   "execution_count": 84,
   "id": "283a43ec",
   "metadata": {},
   "outputs": [
    {
     "data": {
      "text/plain": [
       "array([[1120, 1255, 1390, 1525],\n",
       "       [1320, 1480, 1640, 1800],\n",
       "       [1520, 1705, 1890, 2075],\n",
       "       [1720, 1930, 2140, 2350],\n",
       "       [1920, 2155, 2390, 2625]])"
      ]
     },
     "execution_count": 84,
     "metadata": {},
     "output_type": "execute_result"
    }
   ],
   "source": [
    "# (5,5) and (5,4)\n",
    "b@c\n",
    "# use @ for liner algebra multification"
   ]
  },
  {
   "cell_type": "markdown",
   "id": "b864bd6d",
   "metadata": {},
   "source": [
    "# Array Slicing"
   ]
  },
  {
   "cell_type": "code",
   "execution_count": 85,
   "id": "af001cdd",
   "metadata": {},
   "outputs": [
    {
     "data": {
      "text/plain": [
       "array([[ 0,  1,  2,  3,  4],\n",
       "       [ 5,  6,  7,  8,  9],\n",
       "       [10, 11, 12, 13, 14],\n",
       "       [15, 16, 17, 18, 19],\n",
       "       [20, 21, 22, 23, 24]])"
      ]
     },
     "execution_count": 85,
     "metadata": {},
     "output_type": "execute_result"
    }
   ],
   "source": [
    "a "
   ]
  },
  {
   "cell_type": "code",
   "execution_count": 86,
   "id": "c5801c1a",
   "metadata": {},
   "outputs": [
    {
     "data": {
      "text/plain": [
       "numpy.int32"
      ]
     },
     "execution_count": 86,
     "metadata": {},
     "output_type": "execute_result"
    }
   ],
   "source": [
    "type(a[2,3])"
   ]
  },
  {
   "cell_type": "code",
   "execution_count": 87,
   "id": "e2e72770",
   "metadata": {},
   "outputs": [
    {
     "data": {
      "text/plain": [
       "array([[13]])"
      ]
     },
     "execution_count": 87,
     "metadata": {},
     "output_type": "execute_result"
    }
   ],
   "source": [
    "#  array [row, col] or [start:end, start:end]\n",
    "\n",
    "a[2:3, 3:4]"
   ]
  },
  {
   "cell_type": "code",
   "execution_count": 88,
   "id": "18efc2f4",
   "metadata": {},
   "outputs": [
    {
     "data": {
      "text/plain": [
       "array([ 8, 13, 18])"
      ]
     },
     "execution_count": 88,
     "metadata": {},
     "output_type": "execute_result"
    }
   ],
   "source": [
    "a[1:4, 3]"
   ]
  },
  {
   "cell_type": "code",
   "execution_count": 90,
   "id": "764965c8",
   "metadata": {},
   "outputs": [
    {
     "data": {
      "text/plain": [
       "array([[ 8],\n",
       "       [13],\n",
       "       [18]])"
      ]
     },
     "execution_count": 90,
     "metadata": {},
     "output_type": "execute_result"
    }
   ],
   "source": [
    "a[1:4, 3:4]"
   ]
  },
  {
   "cell_type": "markdown",
   "id": "03660cba",
   "metadata": {},
   "source": [
    "# Querrying Array"
   ]
  },
  {
   "cell_type": "code",
   "execution_count": 95,
   "id": "f61c5691",
   "metadata": {},
   "outputs": [
    {
     "data": {
      "text/plain": [
       "array([[False, False, False, False, False],\n",
       "       [False,  True,  True,  True,  True],\n",
       "       [ True,  True,  True,  True,  True],\n",
       "       [ True,  True,  True,  True,  True],\n",
       "       [ True,  True,  True,  True,  True]])"
      ]
     },
     "execution_count": 95,
     "metadata": {},
     "output_type": "execute_result"
    }
   ],
   "source": [
    "mask = a > 5 # Mask\n",
    "\n",
    "mask"
   ]
  },
  {
   "cell_type": "code",
   "execution_count": 99,
   "id": "b2782c3d",
   "metadata": {},
   "outputs": [
    {
     "data": {
      "text/plain": [
       "array([ 6,  7,  8,  9, 10, 11, 12, 13, 14, 15, 16, 17, 18, 19, 20, 21, 22,\n",
       "       23, 24])"
      ]
     },
     "execution_count": 99,
     "metadata": {},
     "output_type": "execute_result"
    }
   ],
   "source": [
    "a[mask]"
   ]
  },
  {
   "cell_type": "code",
   "execution_count": 100,
   "id": "c538a688",
   "metadata": {},
   "outputs": [
    {
     "data": {
      "text/plain": [
       "array([ 6,  7,  8,  9, 10, 11, 12, 13, 14, 15, 16, 17, 18, 19, 20, 21, 22,\n",
       "       23, 24])"
      ]
     },
     "execution_count": 100,
     "metadata": {},
     "output_type": "execute_result"
    }
   ],
   "source": [
    "a[a > 5]"
   ]
  },
  {
   "cell_type": "code",
   "execution_count": 101,
   "id": "b3e9f0f5",
   "metadata": {},
   "outputs": [],
   "source": [
    "a[a > 7 ] = 100"
   ]
  },
  {
   "cell_type": "code",
   "execution_count": 102,
   "id": "db688746",
   "metadata": {},
   "outputs": [
    {
     "data": {
      "text/plain": [
       "array([[  0,   1,   2,   3,   4],\n",
       "       [  5,   6,   7, 100, 100],\n",
       "       [100, 100, 100, 100, 100],\n",
       "       [100, 100, 100, 100, 100],\n",
       "       [100, 100, 100, 100, 100]])"
      ]
     },
     "execution_count": 102,
     "metadata": {},
     "output_type": "execute_result"
    }
   ],
   "source": [
    "a"
   ]
  },
  {
   "cell_type": "code",
   "execution_count": 104,
   "id": "ef380a2a",
   "metadata": {},
   "outputs": [
    {
     "data": {
      "text/plain": [
       "array([[0, 1, 2, 3, 4],\n",
       "       [5, 6, 7, 0, 0],\n",
       "       [0, 0, 0, 0, 0],\n",
       "       [0, 0, 0, 0, 0],\n",
       "       [0, 0, 0, 0, 0]])"
      ]
     },
     "execution_count": 104,
     "metadata": {},
     "output_type": "execute_result"
    }
   ],
   "source": [
    "np.where(a > 10, 0, a)"
   ]
  },
  {
   "cell_type": "code",
   "execution_count": 106,
   "id": "ca50bb11",
   "metadata": {},
   "outputs": [
    {
     "data": {
      "text/plain": [
       "array([0])"
      ]
     },
     "execution_count": 106,
     "metadata": {},
     "output_type": "execute_result"
    }
   ],
   "source": [
    "a[(a%2==0) & (a%7==0)]"
   ]
  },
  {
   "cell_type": "code",
   "execution_count": 107,
   "id": "3c210c6f",
   "metadata": {},
   "outputs": [
    {
     "data": {
      "text/plain": [
       "array([  0,   2,   4,   6,   7, 100, 100, 100, 100, 100, 100, 100, 100,\n",
       "       100, 100, 100, 100, 100, 100, 100, 100, 100])"
      ]
     },
     "execution_count": 107,
     "metadata": {},
     "output_type": "execute_result"
    }
   ],
   "source": [
    "a[(a%2==0) | (a%7==0)]"
   ]
  },
  {
   "cell_type": "code",
   "execution_count": 108,
   "id": "a79e7a3f",
   "metadata": {},
   "outputs": [
    {
     "data": {
      "text/plain": [
       "array([['Wow', 'OH', 'Wow', 'OH', 'Wow'],\n",
       "       ['OH', 'Wow', 'Wow', 'Wow', 'Wow'],\n",
       "       ['Wow', 'Wow', 'Wow', 'Wow', 'Wow'],\n",
       "       ['Wow', 'Wow', 'Wow', 'Wow', 'Wow'],\n",
       "       ['Wow', 'Wow', 'Wow', 'Wow', 'Wow']], dtype='<U3')"
      ]
     },
     "execution_count": 108,
     "metadata": {},
     "output_type": "execute_result"
    }
   ],
   "source": [
    "np.where((a%2==0) | (a%7==0), 'Wow', 'OH')"
   ]
  },
  {
   "cell_type": "markdown",
   "id": "bcb017ad",
   "metadata": {},
   "source": [
    "### Sir Nasir Class End"
   ]
  },
  {
   "cell_type": "code",
   "execution_count": 8,
   "id": "365719b5",
   "metadata": {},
   "outputs": [
    {
     "data": {
      "text/plain": [
       "2"
      ]
     },
     "execution_count": 8,
     "metadata": {},
     "output_type": "execute_result"
    }
   ],
   "source": [
    "# need 10 rows and 10 cols\n",
    "a = np.arange(100).reshape(10,10)\n",
    "# a.shape # number of axis in dimension\n",
    "a.ndim # number of dimension "
   ]
  },
  {
   "cell_type": "code",
   "execution_count": 15,
   "id": "6aeeb23b",
   "metadata": {},
   "outputs": [
    {
     "data": {
      "text/plain": [
       "array([[[ 0,  1,  2],\n",
       "        [ 3,  4,  5],\n",
       "        [ 6,  7,  8]],\n",
       "\n",
       "       [[ 9, 10, 11],\n",
       "        [12, 13, 14],\n",
       "        [15, 16, 17]],\n",
       "\n",
       "       [[18, 19, 20],\n",
       "        [21, 22, 23],\n",
       "        [24, 25, 26]]])"
      ]
     },
     "execution_count": 15,
     "metadata": {},
     "output_type": "execute_result"
    }
   ],
   "source": [
    "np.arange(27)\n",
    "# output array([ 0,  1,  2,  3,  4,  5,  6,  7,  8,  9, 10, 11, 12, 13, 14, 15, 16,\n",
    "#        17, 18, 19, 20, 21, 22, 23, 24, 25, 26])\n",
    "np.arange(27).reshape(3,3,3)\n",
    "# output array([[[ 0,  1,  2],\n",
    "#         [ 3,  4,  5],\n",
    "#         [ 6,  7,  8]],\n",
    "\n",
    "#        [[ 9, 10, 11],\n",
    "#         [12, 13, 14],\n",
    "#         [15, 16, 17]],\n",
    "\n",
    "#        [[18, 19, 20],\n",
    "#         [21, 22, 23],\n",
    "#         [24, 25, 26]]])"
   ]
  },
  {
   "cell_type": "code",
   "execution_count": 14,
   "id": "a9055be3",
   "metadata": {},
   "outputs": [
    {
     "data": {
      "text/plain": [
       "array([[[  0,   1,   2,   3,   4,   5,   6,   7],\n",
       "        [  8,   9,  10,  11,  12,  13,  14,  15],\n",
       "        [ 16,  17,  18,  19,  20,  21,  22,  23],\n",
       "        [ 24,  25,  26,  27,  28,  29,  30,  31],\n",
       "        [ 32,  33,  34,  35,  36,  37,  38,  39],\n",
       "        [ 40,  41,  42,  43,  44,  45,  46,  47],\n",
       "        [ 48,  49,  50,  51,  52,  53,  54,  55],\n",
       "        [ 56,  57,  58,  59,  60,  61,  62,  63]],\n",
       "\n",
       "       [[ 64,  65,  66,  67,  68,  69,  70,  71],\n",
       "        [ 72,  73,  74,  75,  76,  77,  78,  79],\n",
       "        [ 80,  81,  82,  83,  84,  85,  86,  87],\n",
       "        [ 88,  89,  90,  91,  92,  93,  94,  95],\n",
       "        [ 96,  97,  98,  99, 100, 101, 102, 103],\n",
       "        [104, 105, 106, 107, 108, 109, 110, 111],\n",
       "        [112, 113, 114, 115, 116, 117, 118, 119],\n",
       "        [120, 121, 122, 123, 124, 125, 126, 127]],\n",
       "\n",
       "       [[128, 129, 130, 131, 132, 133, 134, 135],\n",
       "        [136, 137, 138, 139, 140, 141, 142, 143],\n",
       "        [144, 145, 146, 147, 148, 149, 150, 151],\n",
       "        [152, 153, 154, 155, 156, 157, 158, 159],\n",
       "        [160, 161, 162, 163, 164, 165, 166, 167],\n",
       "        [168, 169, 170, 171, 172, 173, 174, 175],\n",
       "        [176, 177, 178, 179, 180, 181, 182, 183],\n",
       "        [184, 185, 186, 187, 188, 189, 190, 191]],\n",
       "\n",
       "       [[192, 193, 194, 195, 196, 197, 198, 199],\n",
       "        [200, 201, 202, 203, 204, 205, 206, 207],\n",
       "        [208, 209, 210, 211, 212, 213, 214, 215],\n",
       "        [216, 217, 218, 219, 220, 221, 222, 223],\n",
       "        [224, 225, 226, 227, 228, 229, 230, 231],\n",
       "        [232, 233, 234, 235, 236, 237, 238, 239],\n",
       "        [240, 241, 242, 243, 244, 245, 246, 247],\n",
       "        [248, 249, 250, 251, 252, 253, 254, 255]]])"
      ]
     },
     "execution_count": 14,
     "metadata": {},
     "output_type": "execute_result"
    }
   ],
   "source": [
    "# if we have 4 images what would be the resolation 8X8 \n",
    "\n",
    "np.arange(4*8*8).reshape(4, 8, 8)"
   ]
  },
  {
   "cell_type": "code",
   "execution_count": 17,
   "id": "3e3493a1",
   "metadata": {},
   "outputs": [
    {
     "data": {
      "text/plain": [
       "array([ 85, 248,  64, 235,   9, 235,  13,  37, 232,  55, 129, 140,  67,\n",
       "       147, 162,  94,  83, 143, 161, 172, 144,  51, 209, 157, 105, 204,\n",
       "        45,  67,  18,  78,  19, 133, 254, 196, 109, 146,  34, 160, 224,\n",
       "       203, 155, 221,  17,  10, 250, 122, 162, 142, 154, 235,  67, 136,\n",
       "       207, 117,  63,  57,  41, 246, 121, 196, 127, 240, 114, 238,   3,\n",
       "       149, 167,  71,  52,  62, 240, 112, 227, 123, 189,  84, 219, 158,\n",
       "        86, 232, 215, 146, 207, 110,  46, 199, 119, 216,  61, 221,  49,\n",
       "       252, 234,  87, 176, 185, 114,  24,  82, 111])"
      ]
     },
     "execution_count": 17,
     "metadata": {},
     "output_type": "execute_result"
    }
   ],
   "source": [
    "np.random.randint(0,255, 100)"
   ]
  },
  {
   "cell_type": "code",
   "execution_count": 18,
   "id": "7c925ddd",
   "metadata": {},
   "outputs": [
    {
     "data": {
      "text/plain": [
       "array([[2, 3],\n",
       "       [5, 6]])"
      ]
     },
     "execution_count": 18,
     "metadata": {},
     "output_type": "execute_result"
    }
   ],
   "source": [
    "a = np.array([[1,2,3], [4,5,6]])\n",
    "\n",
    "a[:, -2:]"
   ]
  },
  {
   "cell_type": "code",
   "execution_count": 19,
   "id": "09f92cd5",
   "metadata": {},
   "outputs": [],
   "source": [
    "# if we convert video to numpy data it will be 5 dimension data"
   ]
  },
  {
   "cell_type": "code",
   "execution_count": 25,
   "id": "6209c427",
   "metadata": {},
   "outputs": [
    {
     "data": {
      "text/plain": [
       "array([0., 0., 0., 0., 0., 0., 0., 0., 0., 0.])"
      ]
     },
     "metadata": {},
     "output_type": "display_data"
    },
    {
     "data": {
      "text/plain": [
       "array([1., 1., 1., 1., 1., 1., 1., 1., 1., 1.])"
      ]
     },
     "metadata": {},
     "output_type": "display_data"
    },
    {
     "data": {
      "text/plain": [
       "array([1., 1., 1., 1., 1., 1., 1., 1., 1., 1.])"
      ]
     },
     "metadata": {},
     "output_type": "display_data"
    }
   ],
   "source": [
    "display(np.zeros(10))\n",
    "display(np.ones(10))\n",
    "display(np.empty(10))"
   ]
  },
  {
   "cell_type": "code",
   "execution_count": 28,
   "id": "5c82c7c7",
   "metadata": {},
   "outputs": [
    {
     "data": {
      "text/plain": [
       "array([1.  , 1.25, 1.5 , 1.75, 2.  ])"
      ]
     },
     "execution_count": 28,
     "metadata": {},
     "output_type": "execute_result"
    }
   ],
   "source": [
    "# linspace function genrates linerspace/steps between a range\n",
    "\n",
    "np.linspace(1, 2, 5)"
   ]
  },
  {
   "cell_type": "code",
   "execution_count": 29,
   "id": "4d34a582",
   "metadata": {},
   "outputs": [
    {
     "data": {
      "text/plain": [
       "array([ 1. , 30.5, 60. ])"
      ]
     },
     "execution_count": 29,
     "metadata": {},
     "output_type": "execute_result"
    }
   ],
   "source": [
    "np.linspace(1, 60, 3)"
   ]
  },
  {
   "cell_type": "code",
   "execution_count": 41,
   "id": "6e8a8820",
   "metadata": {},
   "outputs": [
    {
     "data": {
      "text/plain": [
       "array([[[ 0,  1,  2],\n",
       "        [ 3,  4,  5],\n",
       "        [ 6,  7,  8]],\n",
       "\n",
       "       [[ 9, 10, 11],\n",
       "        [12, 13, 14],\n",
       "        [15, 16, 17]],\n",
       "\n",
       "       [[18, 19, 20],\n",
       "        [21, 22, 23],\n",
       "        [24, 25, 26]]])"
      ]
     },
     "execution_count": 41,
     "metadata": {},
     "output_type": "execute_result"
    }
   ],
   "source": [
    "a = np.arange(27).reshape(3,3,3)\n",
    "\n",
    "a"
   ]
  },
  {
   "cell_type": "code",
   "execution_count": 42,
   "id": "d3148c5c",
   "metadata": {},
   "outputs": [
    {
     "data": {
      "text/plain": [
       "array([[[1, 1, 1],\n",
       "        [1, 1, 1],\n",
       "        [1, 1, 1]],\n",
       "\n",
       "       [[1, 1, 1],\n",
       "        [1, 1, 1],\n",
       "        [1, 1, 1]],\n",
       "\n",
       "       [[1, 1, 1],\n",
       "        [1, 1, 1],\n",
       "        [1, 1, 1]]])"
      ]
     },
     "execution_count": 42,
     "metadata": {},
     "output_type": "execute_result"
    }
   ],
   "source": [
    "# ones like function temporarly changes array elemets to 1\n",
    "np.ones_like(a)"
   ]
  },
  {
   "cell_type": "code",
   "execution_count": 46,
   "id": "347a0131",
   "metadata": {},
   "outputs": [
    {
     "data": {
      "text/plain": [
       "array([[[ 0,  1,  2],\n",
       "        [ 3,  4,  5],\n",
       "        [ 6,  7,  8]],\n",
       "\n",
       "       [[ 9, 10, 11],\n",
       "        [12, 13, 14],\n",
       "        [15, 16, 17]],\n",
       "\n",
       "       [[18, 19, 20],\n",
       "        [21, 22, 23],\n",
       "        [24, 25, 26]]])"
      ]
     },
     "execution_count": 46,
     "metadata": {},
     "output_type": "execute_result"
    }
   ],
   "source": [
    "# sort function sort array elemets\n",
    "\n",
    "np.sort(a)"
   ]
  },
  {
   "cell_type": "code",
   "execution_count": 59,
   "id": "1f34fefb",
   "metadata": {},
   "outputs": [
    {
     "data": {
      "text/plain": [
       "array([[[  0,   1,   2],\n",
       "        [  3,   4,   5],\n",
       "        [  6,   7,   8]],\n",
       "\n",
       "       [[  9,  10,  11],\n",
       "        [ 12,  13,  14],\n",
       "        [ 15,  16,  17]],\n",
       "\n",
       "       [[ 18,  19,  20],\n",
       "        [ 21,  22,  23],\n",
       "        [ 24,  25,  26]],\n",
       "\n",
       "       [[ 27,  28,  29],\n",
       "        [ 30,  31,  32],\n",
       "        [ 33,  34,  35]],\n",
       "\n",
       "       [[ 36,  37,  38],\n",
       "        [ 39,  40,  41],\n",
       "        [ 42,  43,  44]],\n",
       "\n",
       "       [[ 45,  46,  47],\n",
       "        [ 48,  49,  50],\n",
       "        [ 51,  52,  53]],\n",
       "\n",
       "       [[ 54,  55,  56],\n",
       "        [ 57,  58,  59],\n",
       "        [ 60,  61,  62]],\n",
       "\n",
       "       [[ 63,  64,  65],\n",
       "        [ 66,  67,  68],\n",
       "        [ 69,  70,  71]],\n",
       "\n",
       "       [[ 72,  73,  74],\n",
       "        [ 75,  76,  77],\n",
       "        [ 78,  79,  80]],\n",
       "\n",
       "       [[ 81,  82,  83],\n",
       "        [ 84,  85,  86],\n",
       "        [ 87,  88,  89]],\n",
       "\n",
       "       [[ 90,  91,  92],\n",
       "        [ 93,  94,  95],\n",
       "        [ 96,  97,  98]],\n",
       "\n",
       "       [[ 99, 100, 101],\n",
       "        [102, 103, 104],\n",
       "        [105, 106, 107]],\n",
       "\n",
       "       [[108, 109, 110],\n",
       "        [111, 112, 113],\n",
       "        [114, 115, 116]],\n",
       "\n",
       "       [[117, 118, 119],\n",
       "        [120, 121, 122],\n",
       "        [123, 124, 125]],\n",
       "\n",
       "       [[126, 127, 128],\n",
       "        [129, 130, 131],\n",
       "        [132, 133, 134]],\n",
       "\n",
       "       [[135, 136, 137],\n",
       "        [138, 139, 140],\n",
       "        [141, 142, 143]],\n",
       "\n",
       "       [[144, 145, 146],\n",
       "        [147, 148, 149],\n",
       "        [150, 151, 152]],\n",
       "\n",
       "       [[153, 154, 155],\n",
       "        [156, 157, 158],\n",
       "        [159, 160, 161]],\n",
       "\n",
       "       [[162, 163, 164],\n",
       "        [165, 166, 167],\n",
       "        [168, 169, 170]],\n",
       "\n",
       "       [[171, 172, 173],\n",
       "        [174, 175, 176],\n",
       "        [177, 178, 179]],\n",
       "\n",
       "       [[180, 181, 182],\n",
       "        [183, 184, 185],\n",
       "        [186, 187, 188]],\n",
       "\n",
       "       [[189, 190, 191],\n",
       "        [192, 193, 194],\n",
       "        [195, 196, 197]],\n",
       "\n",
       "       [[198, 199, 200],\n",
       "        [201, 202, 203],\n",
       "        [204, 205, 206]],\n",
       "\n",
       "       [[207, 208, 209],\n",
       "        [210, 211, 212],\n",
       "        [213, 214, 215]],\n",
       "\n",
       "       [[216, 217, 218],\n",
       "        [219, 220, 221],\n",
       "        [222, 223, 224]],\n",
       "\n",
       "       [[225, 226, 227],\n",
       "        [228, 229, 230],\n",
       "        [231, 232, 233]],\n",
       "\n",
       "       [[234, 235, 236],\n",
       "        [237, 238, 239],\n",
       "        [240, 241, 242]],\n",
       "\n",
       "       [[243, 244, 245],\n",
       "        [246, 247, 248],\n",
       "        [249, 250, 251]],\n",
       "\n",
       "       [[252, 253, 254],\n",
       "        [255, 256, 257],\n",
       "        [258, 259, 260]],\n",
       "\n",
       "       [[261, 262, 263],\n",
       "        [264, 265, 266],\n",
       "        [267, 268, 269]],\n",
       "\n",
       "       [[270, 271, 272],\n",
       "        [273, 274, 275],\n",
       "        [276, 277, 278]],\n",
       "\n",
       "       [[279, 280, 281],\n",
       "        [282, 283, 284],\n",
       "        [285, 286, 287]],\n",
       "\n",
       "       [[288, 289, 290],\n",
       "        [291, 292, 293],\n",
       "        [294, 295, 296]],\n",
       "\n",
       "       [[297, 298, 299],\n",
       "        [300, 301, 302],\n",
       "        [303, 304, 305]],\n",
       "\n",
       "       [[306, 307, 308],\n",
       "        [309, 310, 311],\n",
       "        [312, 313, 314]],\n",
       "\n",
       "       [[315, 316, 317],\n",
       "        [318, 319, 320],\n",
       "        [321, 322, 323]],\n",
       "\n",
       "       [[324, 325, 326],\n",
       "        [327, 328, 329],\n",
       "        [330, 331, 332]],\n",
       "\n",
       "       [[333, 334, 335],\n",
       "        [336, 337, 338],\n",
       "        [339, 340, 341]],\n",
       "\n",
       "       [[342, 343, 344],\n",
       "        [345, 346, 347],\n",
       "        [348, 349, 350]],\n",
       "\n",
       "       [[351, 352, 353],\n",
       "        [354, 355, 356],\n",
       "        [357, 358, 359]],\n",
       "\n",
       "       [[360, 361, 362],\n",
       "        [363, 364, 365],\n",
       "        [366, 367, 368]],\n",
       "\n",
       "       [[369, 370, 371],\n",
       "        [372, 373, 374],\n",
       "        [375, 376, 377]],\n",
       "\n",
       "       [[378, 379, 380],\n",
       "        [381, 382, 383],\n",
       "        [384, 385, 386]],\n",
       "\n",
       "       [[387, 388, 389],\n",
       "        [390, 391, 392],\n",
       "        [393, 394, 395]],\n",
       "\n",
       "       [[396, 397, 398],\n",
       "        [399, 400, 401],\n",
       "        [402, 403, 404]],\n",
       "\n",
       "       [[405, 406, 407],\n",
       "        [408, 409, 410],\n",
       "        [411, 412, 413]],\n",
       "\n",
       "       [[414, 415, 416],\n",
       "        [417, 418, 419],\n",
       "        [420, 421, 422]],\n",
       "\n",
       "       [[423, 424, 425],\n",
       "        [426, 427, 428],\n",
       "        [429, 430, 431]],\n",
       "\n",
       "       [[432, 433, 434],\n",
       "        [435, 436, 437],\n",
       "        [438, 439, 440]],\n",
       "\n",
       "       [[441, 442, 443],\n",
       "        [444, 445, 446],\n",
       "        [447, 448, 449]]])"
      ]
     },
     "execution_count": 59,
     "metadata": {},
     "output_type": "execute_result"
    }
   ],
   "source": [
    "np.arange(50*3*3).reshape(-1,3,3) # -1 in reshape means it will handle calculation by it self\n",
    "# can be used in any parameter and can only use in one parameter at a time"
   ]
  },
  {
   "cell_type": "code",
   "execution_count": 63,
   "id": "f89a7cf2",
   "metadata": {},
   "outputs": [
    {
     "name": "stdout",
     "output_type": "stream",
     "text": [
      "3\n",
      "0\n",
      "[0 2 4 5 1 3]\n"
     ]
    }
   ],
   "source": [
    "# when ever you see arg in numpy it means index\n",
    "\n",
    "a = np.array([1,8 , 4,30, 5 , 5])\n",
    "print(np.argmax(a))\n",
    "print(np.argmin(a))\n",
    "print(np.argsort(a))"
   ]
  },
  {
   "cell_type": "code",
   "execution_count": 65,
   "id": "89c9c731",
   "metadata": {},
   "outputs": [
    {
     "name": "stdout",
     "output_type": "stream",
     "text": [
      "dogs\n"
     ]
    }
   ],
   "source": [
    "labels = ['cat', 'dogs', 'apple', 'orange']\n",
    "prediction = [20, 50, 40, 15]\n",
    "index = np.argmax(prediction)\n",
    "\n",
    "print(labels[index])"
   ]
  },
  {
   "cell_type": "markdown",
   "id": "488340bb",
   "metadata": {},
   "source": [
    "# Concatination"
   ]
  },
  {
   "cell_type": "code",
   "execution_count": 66,
   "id": "c6c14330",
   "metadata": {},
   "outputs": [
    {
     "data": {
      "text/plain": [
       "array([[ 1,  2],\n",
       "       [ 3,  4],\n",
       "       [ 5,  6],\n",
       "       [ 7,  8],\n",
       "       [ 9, 10]])"
      ]
     },
     "metadata": {},
     "output_type": "display_data"
    },
    {
     "data": {
      "text/plain": [
       "array([[11, 12],\n",
       "       [13, 14],\n",
       "       [15, 16],\n",
       "       [17, 18],\n",
       "       [19, 20]])"
      ]
     },
     "metadata": {},
     "output_type": "display_data"
    }
   ],
   "source": [
    "a = np.arange(1,11).reshape(5,2)\n",
    "b = np.arange(11,21).reshape(5,2)\n",
    "display(a)\n",
    "display(b)"
   ]
  },
  {
   "cell_type": "code",
   "execution_count": 70,
   "id": "bf5cf4a8",
   "metadata": {},
   "outputs": [
    {
     "data": {
      "text/plain": [
       "array([[ 1,  2],\n",
       "       [ 3,  4],\n",
       "       [ 5,  6],\n",
       "       [ 7,  8],\n",
       "       [ 9, 10],\n",
       "       [11, 12],\n",
       "       [13, 14],\n",
       "       [15, 16],\n",
       "       [17, 18],\n",
       "       [19, 20]])"
      ]
     },
     "execution_count": 70,
     "metadata": {},
     "output_type": "execute_result"
    }
   ],
   "source": [
    "np.concatenate((a, b)) # default axis 0"
   ]
  },
  {
   "cell_type": "code",
   "execution_count": 71,
   "id": "0fa5d2f6",
   "metadata": {},
   "outputs": [
    {
     "data": {
      "text/plain": [
       "array([[ 1,  2, 11, 12],\n",
       "       [ 3,  4, 13, 14],\n",
       "       [ 5,  6, 15, 16],\n",
       "       [ 7,  8, 17, 18],\n",
       "       [ 9, 10, 19, 20]])"
      ]
     },
     "execution_count": 71,
     "metadata": {},
     "output_type": "execute_result"
    }
   ],
   "source": [
    "np.concatenate((a,b ), axis=1)"
   ]
  },
  {
   "cell_type": "code",
   "execution_count": 72,
   "id": "386f151b",
   "metadata": {},
   "outputs": [
    {
     "data": {
      "text/plain": [
       "array([[[ 1,  2],\n",
       "        [ 3,  4],\n",
       "        [ 5,  6],\n",
       "        [ 7,  8],\n",
       "        [ 9, 10]],\n",
       "\n",
       "       [[11, 12],\n",
       "        [13, 14],\n",
       "        [15, 16],\n",
       "        [17, 18],\n",
       "        [19, 20]]])"
      ]
     },
     "execution_count": 72,
     "metadata": {},
     "output_type": "execute_result"
    }
   ],
   "source": [
    "np.stack((a,b))"
   ]
  },
  {
   "cell_type": "code",
   "execution_count": 73,
   "id": "4352e0db",
   "metadata": {},
   "outputs": [
    {
     "data": {
      "text/plain": [
       "array([[[ 1,  2],\n",
       "        [11, 12]],\n",
       "\n",
       "       [[ 3,  4],\n",
       "        [13, 14]],\n",
       "\n",
       "       [[ 5,  6],\n",
       "        [15, 16]],\n",
       "\n",
       "       [[ 7,  8],\n",
       "        [17, 18]],\n",
       "\n",
       "       [[ 9, 10],\n",
       "        [19, 20]]])"
      ]
     },
     "execution_count": 73,
     "metadata": {},
     "output_type": "execute_result"
    }
   ],
   "source": [
    "np.stack((a,b), axis=1)"
   ]
  },
  {
   "cell_type": "code",
   "execution_count": 75,
   "id": "c0055c37",
   "metadata": {},
   "outputs": [
    {
     "data": {
      "text/plain": [
       "array([[ 1,  2, 11, 12],\n",
       "       [ 3,  4, 13, 14],\n",
       "       [ 5,  6, 15, 16],\n",
       "       [ 7,  8, 17, 18],\n",
       "       [ 9, 10, 19, 20]])"
      ]
     },
     "execution_count": 75,
     "metadata": {},
     "output_type": "execute_result"
    }
   ],
   "source": [
    "np.hstack(((a,b)))"
   ]
  },
  {
   "cell_type": "code",
   "execution_count": 77,
   "id": "3a08ddbb",
   "metadata": {},
   "outputs": [
    {
     "data": {
      "text/plain": [
       "array([[ 1,  2],\n",
       "       [ 3,  4],\n",
       "       [ 5,  6],\n",
       "       [ 7,  8],\n",
       "       [ 9, 10],\n",
       "       [11, 12],\n",
       "       [13, 14],\n",
       "       [15, 16],\n",
       "       [17, 18],\n",
       "       [19, 20]])"
      ]
     },
     "execution_count": 77,
     "metadata": {},
     "output_type": "execute_result"
    }
   ],
   "source": [
    "np.vstack(((a,b)))"
   ]
  },
  {
   "cell_type": "code",
   "execution_count": 79,
   "id": "1ea2dff4",
   "metadata": {},
   "outputs": [
    {
     "data": {
      "text/plain": [
       "55"
      ]
     },
     "execution_count": 79,
     "metadata": {},
     "output_type": "execute_result"
    }
   ],
   "source": [
    "a.sum()"
   ]
  },
  {
   "cell_type": "code",
   "execution_count": 81,
   "id": "b0db5809",
   "metadata": {},
   "outputs": [],
   "source": [
    "a = np.array([[1,2,3], [3,4,5]])"
   ]
  },
  {
   "cell_type": "code",
   "execution_count": 85,
   "id": "49deced0",
   "metadata": {},
   "outputs": [
    {
     "data": {
      "text/plain": [
       "array([ 6, 12])"
      ]
     },
     "execution_count": 85,
     "metadata": {},
     "output_type": "execute_result"
    }
   ],
   "source": [
    "a.sum(axis=1)"
   ]
  },
  {
   "cell_type": "markdown",
   "id": "a676a4ad",
   "metadata": {},
   "source": [
    "## Slicing, Indexing, Fancy Slicing, Boolean Slicing"
   ]
  },
  {
   "cell_type": "code",
   "execution_count": 86,
   "id": "763cca35",
   "metadata": {},
   "outputs": [
    {
     "data": {
      "text/plain": [
       "array([[ 0,  1,  2,  3],\n",
       "       [ 4,  5,  6,  7],\n",
       "       [ 8,  9, 10, 11],\n",
       "       [12, 13, 14, 15]])"
      ]
     },
     "execution_count": 86,
     "metadata": {},
     "output_type": "execute_result"
    }
   ],
   "source": [
    "a = np.arange(4*4).reshape(4,4)\n",
    "a"
   ]
  },
  {
   "cell_type": "code",
   "execution_count": 87,
   "id": "f7b16fb1",
   "metadata": {},
   "outputs": [
    {
     "data": {
      "text/plain": [
       "array([0, 1, 2, 3])"
      ]
     },
     "execution_count": 87,
     "metadata": {},
     "output_type": "execute_result"
    }
   ],
   "source": [
    "a[0]"
   ]
  },
  {
   "cell_type": "code",
   "execution_count": 88,
   "id": "6c12a70e",
   "metadata": {},
   "outputs": [
    {
     "data": {
      "text/plain": [
       "array([ 8,  9, 10, 11])"
      ]
     },
     "execution_count": 88,
     "metadata": {},
     "output_type": "execute_result"
    }
   ],
   "source": [
    "a[2]"
   ]
  },
  {
   "cell_type": "code",
   "execution_count": 89,
   "id": "3e933256",
   "metadata": {},
   "outputs": [
    {
     "data": {
      "text/plain": [
       "array([[ 0,  1,  2,  3],\n",
       "       [ 8,  9, 10, 11]])"
      ]
     },
     "execution_count": 89,
     "metadata": {},
     "output_type": "execute_result"
    }
   ],
   "source": [
    "a[::2]"
   ]
  },
  {
   "cell_type": "code",
   "execution_count": 91,
   "id": "5aa55494",
   "metadata": {},
   "outputs": [
    {
     "data": {
      "text/plain": [
       "array([[ 0,  1,  2,  3],\n",
       "       [ 4,  5,  6,  7],\n",
       "       [ 8,  9, 10, 11],\n",
       "       [12, 13, 14, 15]])"
      ]
     },
     "metadata": {},
     "output_type": "display_data"
    },
    {
     "data": {
      "text/plain": [
       "array([[ 4,  5,  6,  7],\n",
       "       [ 8,  9, 10, 11],\n",
       "       [ 0,  1,  2,  3],\n",
       "       [ 4,  5,  6,  7]])"
      ]
     },
     "metadata": {},
     "output_type": "display_data"
    }
   ],
   "source": [
    "display(a)\n",
    "display(a[[1,2,0,1]]) # this is fancy slicing where we specify what indexs we want"
   ]
  },
  {
   "cell_type": "code",
   "execution_count": 93,
   "id": "9c84f9ae",
   "metadata": {},
   "outputs": [
    {
     "data": {
      "text/plain": [
       "array([[ True, False,  True, False],\n",
       "       [ True, False,  True, False],\n",
       "       [ True, False,  True, False],\n",
       "       [ True, False,  True, False]])"
      ]
     },
     "execution_count": 93,
     "metadata": {},
     "output_type": "execute_result"
    }
   ],
   "source": [
    "a % 2 == 0"
   ]
  },
  {
   "cell_type": "code",
   "execution_count": 95,
   "id": "a43522cd",
   "metadata": {},
   "outputs": [
    {
     "data": {
      "text/plain": [
       "array([2, 4, 6])"
      ]
     },
     "execution_count": 95,
     "metadata": {},
     "output_type": "execute_result"
    }
   ],
   "source": [
    "b = np.arange(1,7)\n",
    "b[b % 2 == 0]"
   ]
  },
  {
   "cell_type": "code",
   "execution_count": 97,
   "id": "a5cfe28c",
   "metadata": {},
   "outputs": [
    {
     "data": {
      "text/plain": [
       "[array([[0, 1, 2, 3],\n",
       "        [4, 5, 6, 7]]),\n",
       " array([[ 8,  9, 10, 11],\n",
       "        [12, 13, 14, 15]])]"
      ]
     },
     "execution_count": 97,
     "metadata": {},
     "output_type": "execute_result"
    }
   ],
   "source": [
    "np.split(a,2)"
   ]
  },
  {
   "cell_type": "code",
   "execution_count": 98,
   "id": "9895b994",
   "metadata": {},
   "outputs": [
    {
     "data": {
      "text/plain": [
       "[array([[ 0,  1],\n",
       "        [ 4,  5],\n",
       "        [ 8,  9],\n",
       "        [12, 13]]),\n",
       " array([[ 2,  3],\n",
       "        [ 6,  7],\n",
       "        [10, 11],\n",
       "        [14, 15]])]"
      ]
     },
     "execution_count": 98,
     "metadata": {},
     "output_type": "execute_result"
    }
   ],
   "source": [
    "np.split(a,2, axis=1)"
   ]
  },
  {
   "cell_type": "code",
   "execution_count": 99,
   "id": "e8ad7733",
   "metadata": {},
   "outputs": [
    {
     "data": {
      "text/plain": [
       "[array([[0, 1, 2, 3],\n",
       "        [4, 5, 6, 7]]),\n",
       " array([[ 8,  9, 10, 11],\n",
       "        [12, 13, 14, 15]])]"
      ]
     },
     "execution_count": 99,
     "metadata": {},
     "output_type": "execute_result"
    }
   ],
   "source": [
    "np.vsplit(a, 2)"
   ]
  },
  {
   "cell_type": "code",
   "execution_count": 100,
   "id": "d5a3714a",
   "metadata": {},
   "outputs": [
    {
     "data": {
      "text/plain": [
       "[array([[ 0,  1],\n",
       "        [ 4,  5],\n",
       "        [ 8,  9],\n",
       "        [12, 13]]),\n",
       " array([[ 2,  3],\n",
       "        [ 6,  7],\n",
       "        [10, 11],\n",
       "        [14, 15]])]"
      ]
     },
     "execution_count": 100,
     "metadata": {},
     "output_type": "execute_result"
    }
   ],
   "source": [
    "np.hsplit(a, 2)"
   ]
  },
  {
   "cell_type": "code",
   "execution_count": null,
   "id": "e23da136",
   "metadata": {},
   "outputs": [],
   "source": []
  }
 ],
 "metadata": {
  "kernelspec": {
   "display_name": "Python 3 (ipykernel)",
   "language": "python",
   "name": "python3"
  },
  "language_info": {
   "codemirror_mode": {
    "name": "ipython",
    "version": 3
   },
   "file_extension": ".py",
   "mimetype": "text/x-python",
   "name": "python",
   "nbconvert_exporter": "python",
   "pygments_lexer": "ipython3",
   "version": "3.9.13"
  }
 },
 "nbformat": 4,
 "nbformat_minor": 5
}
